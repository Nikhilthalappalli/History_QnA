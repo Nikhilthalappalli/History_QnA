{
 "cells": [
  {
   "cell_type": "code",
   "execution_count": 16,
   "id": "9b0ea304",
   "metadata": {},
   "outputs": [],
   "source": [
    "import streamlit as st\n",
    "from sentence_transformers import SentenceTransformer\n",
    "from transformers import BartTokenizer, BartForConditionalGeneration\n",
    "from pinecone import Index\n",
    "from sentence_transformers import SentenceTransformer\n",
    "import pinecone\n",
    "\n",
    "\n",
    "model_directory = \"retrever\"  # Specify the directory where you saved the model\n",
    "retriever = SentenceTransformer(model_directory)\n",
    "\n",
    "# Initialize Pinecone index\n",
    "api_key = \"bd1d3537-f881-47a6-8255-dd460454b4a6\"\n",
    "pinecone.init(api_key=api_key, environment=\"gcp-starter\")\n",
    "index_name = \"question-answer-app\"\n",
    "index = Index(index_name)\n",
    "\n",
    "# Initialize BART models\n",
    "tokenizer_directory = \"bart_tokenizer\"\n",
    "generator_directory = \"bart_generator\"\n",
    "\n",
    "# Load the models from the specified directories\n",
    "tokenizer = BartTokenizer.from_pretrained(tokenizer_directory)\n",
    "generator = BartForConditionalGeneration.from_pretrained(generator_directory)\n",
    "\n",
    "\n",
    "def query_pinecone(query, top_k):\n",
    "    q = retriever.encode([query]).tolist()\n",
    "    context = index.query(q, top_k=top_k, include_metadata=True)\n",
    "    return context\n",
    "\n",
    "\n",
    "def format_query(query, context):\n",
    "    context = [f\"<P> {m['metadata']['passage_text']}\" for m in context]\n",
    "    context = \" \".join(context)\n",
    "    query = f\"question: {query} context: {context}\"\n",
    "    return query\n",
    "\n",
    "\n",
    "\n",
    "\n",
    "# st.title(\"History Question Answering\")\n",
    "\n",
    "# Input for the user's query\n",
    "# user_query = st.text_input(\"Enter your question:\")\n",
    "\n",
    "# Button to trigger the query and answer generation\n",
    "# if st.button(\"Get Answer\"):\n",
    "#     st.write(\"Searching for answers...\")\n",
    "#     q_result = query_pinecone(user_query, top_k=5)\n",
    "#     context = format_query(user_query, q_result['matches'])\n",
    "#     answer = generate_answers(context)\n",
    "\n",
    "#     st.write(\"Answer:\", answer)\n",
    "\n",
    "# st.write(\"Note: This is a simple interface for the provided code.\")\n"
   ]
  },
  {
   "cell_type": "code",
   "execution_count": 28,
   "id": "62c6ca5b-79f5-4db5-9aab-df5fb2311d70",
   "metadata": {},
   "outputs": [],
   "source": [
    "truncation_strategy = 'longest_first'\n",
    "def generate_answers(query):\n",
    "    inputs = tokenizer([query], max_length=1024, return_tensors=\"pt\",truncation=truncation_strategy)\n",
    "    ids = generator.generate(inputs[\"input_ids\"], num_beams=2, min_length=20, max_length=60)\n",
    "    answer = tokenizer.batch_decode(ids, skip_special_tokens=True, clean_up_tokenization_spaces=False)[0]\n",
    "    return answer"
   ]
  },
  {
   "cell_type": "code",
   "execution_count": 6,
   "id": "2b338bcd",
   "metadata": {},
   "outputs": [],
   "source": [
    "user_query = \"what is taj mahal\"\n",
    "q_result = query_pinecone(user_query, top_k=5)\n",
    "context = format_query(user_query, q_result['matches'])\n",
    "answer = generate_answers(context)"
   ]
  },
  {
   "cell_type": "code",
   "execution_count": 7,
   "id": "20ae20c1-8c9c-4cc6-8059-2c385eba8c60",
   "metadata": {},
   "outputs": [
    {
     "data": {
      "text/plain": [
       "'The Taj Mahal is a building that was built in the 19th century in the Indian city of Ayodhya. It was built as a summer residence for the Shah of Ayodhya'"
      ]
     },
     "execution_count": 7,
     "metadata": {},
     "output_type": "execute_result"
    }
   ],
   "source": [
    "answer"
   ]
  },
  {
   "cell_type": "code",
   "execution_count": 30,
   "id": "ecdd866c-994a-42ba-8eeb-224b04a0ed3f",
   "metadata": {},
   "outputs": [],
   "source": [
    "def askque(query):\n",
    "    query = query.lower()\n",
    "    q_result = query_pinecone(query, top_k=5)\n",
    "    context = format_query(query, q_result['matches'])\n",
    "    answer = generate_answers(context)\n",
    "    return answer"
   ]
  },
  {
   "cell_type": "code",
   "execution_count": 15,
   "id": "f979a5fe-18ce-4445-89d9-32db29abf383",
   "metadata": {},
   "outputs": [
    {
     "name": "stdout",
     "output_type": "stream",
     "text": [
      "India was a part of the British Empire from 1857 to 1947. The British Empire was a federation of several countries, and India was one of them. The British Empire was a federation of\n"
     ]
    }
   ],
   "source": [
    "print(askque(\"when did india got independene\"))"
   ]
  },
  {
   "cell_type": "code",
   "execution_count": 21,
   "id": "b2ab636e-25f6-49ff-bb0f-413521ad62ad",
   "metadata": {},
   "outputs": [
    {
     "name": "stdout",
     "output_type": "stream",
     "text": [
      "India was a part of the British Empire from 1857 to 1947. The British Empire was a federation of many countries, and India was one of them. The British Empire was a federation of many countries, and India was one of them. The British Empire was a federation of many countries,\n"
     ]
    }
   ],
   "source": [
    "print(askque(\"when did india got independene\"))"
   ]
  },
  {
   "cell_type": "code",
   "execution_count": 31,
   "id": "e516d570-87c2-4c89-91d6-6d1632f843ff",
   "metadata": {},
   "outputs": [
    {
     "name": "stdout",
     "output_type": "stream",
     "text": [
      "The Taj Mahal is a building that was built in the 19th century in the Indian city of Ayodhya. It was built as a summer residence for the Shah of Ayodhya. It was built in the style of the Taj Mahal, which is a T-shape.\n"
     ]
    }
   ],
   "source": [
    "print(askque(\"What is Taj mahal\"))"
   ]
  },
  {
   "cell_type": "code",
   "execution_count": null,
   "id": "d0d4b2cd-e8ce-4330-a453-a79f24630e23",
   "metadata": {},
   "outputs": [],
   "source": []
  }
 ],
 "metadata": {
  "kernelspec": {
   "display_name": "Python 3 (ipykernel)",
   "language": "python",
   "name": "python3"
  },
  "language_info": {
   "codemirror_mode": {
    "name": "ipython",
    "version": 3
   },
   "file_extension": ".py",
   "mimetype": "text/x-python",
   "name": "python",
   "nbconvert_exporter": "python",
   "pygments_lexer": "ipython3",
   "version": "3.11.6"
  }
 },
 "nbformat": 4,
 "nbformat_minor": 5
}
